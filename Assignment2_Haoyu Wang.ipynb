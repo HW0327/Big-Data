{
 "cells": [
  {
   "cell_type": "code",
   "execution_count": 1,
   "id": "e3dc495a",
   "metadata": {},
   "outputs": [],
   "source": [
    "#!pip3 install pymongo\n",
    "import pandas as pd\n",
    "from pymongo import MongoClient\n",
    "from datetime import datetime"
   ]
  },
  {
   "cell_type": "code",
   "execution_count": 2,
   "id": "53d1ea7d",
   "metadata": {},
   "outputs": [
    {
     "data": {
      "text/plain": [
       "<pymongo.results.InsertManyResult at 0x1afa606d8a0>"
      ]
     },
     "execution_count": 2,
     "metadata": {},
     "output_type": "execute_result"
    }
   ],
   "source": [
    "# Connect to MongoDB\n",
    "client = MongoClient('localhost', 27017)\n",
    "\n",
    "# Create a new database and collection\n",
    "db = client['goodreads']\n",
    "collection = db['books']\n",
    "\n",
    "# Load CSV data into a pandas DataFrame\n",
    "df = pd.read_csv('books.csv')\n",
    "\n",
    "# Clean the date data\n",
    "df['publication_date'] = df['publication_date'].apply(lambda x: datetime.strptime(x, '%m/%d/%Y').strftime('%Y-%m-%d') if pd.notnull(x) else '')\n",
    "\n",
    "# Split authors into a list of strings\n",
    "df['authors'] = df['authors'].apply(lambda x: x.split('/') if isinstance(x, str) else [])\n",
    "\n",
    "# Convert DataFrame to a list of dictionaries\n",
    "books = df.to_dict('records')\n",
    "\n",
    "# Make sure the database is clear before inserting\n",
    "total_docs = collection.count_documents({})\n",
    "if total_docs >0:\n",
    "    collection.drop()\n",
    "\n",
    "# Insert data into MongoDB\n",
    "collection.insert_many(books)\n",
    "\n",
    "# Close the MongoDB connection\n",
    "#client.close()"
   ]
  },
  {
   "cell_type": "code",
   "execution_count": 3,
   "id": "36485331",
   "metadata": {},
   "outputs": [
    {
     "data": {
      "text/plain": [
       "11127"
      ]
     },
     "execution_count": 3,
     "metadata": {},
     "output_type": "execute_result"
    }
   ],
   "source": [
    "total_docs = collection.count_documents({})\n",
    "total_docs"
   ]
  },
  {
   "cell_type": "code",
   "execution_count": 4,
   "id": "ba0bfaae",
   "metadata": {
    "scrolled": false
   },
   "outputs": [
    {
     "name": "stdout",
     "output_type": "stream",
     "text": [
      "Harry Potter and the Half-Blood Prince (Harry Potter  #6) by ['J.K. Rowling', 'Mary GrandPré']\n",
      "Harry Potter and the Order of the Phoenix (Harry Potter  #5) by ['J.K. Rowling', 'Mary GrandPré']\n",
      "Harry Potter and the Chamber of Secrets (Harry Potter  #2) by ['J.K. Rowling']\n",
      "Harry Potter and the Prisoner of Azkaban (Harry Potter  #3) by ['J.K. Rowling', 'Mary GrandPré']\n",
      "Harry Potter Boxed Set  Books 1-5 (Harry Potter  #1-5) by ['J.K. Rowling', 'Mary GrandPré']\n",
      "Harry Potter Collection (Harry Potter  #1-6) by ['J.K. Rowling']\n",
      "Cien años de soledad by ['Gabriel García Márquez']\n",
      "Collected Stories by ['Gabriel García Márquez', 'Gregory Rabassa', 'J.S. Bernstein']\n",
      "Crónica de una muerte anunciada by ['Gabriel García Márquez']\n",
      "Cien años de soledad by ['Gabriel García Márquez']\n",
      "Del amor y otros demonios by ['Gabriel García Márquez']\n",
      "Living to Tell the Tale by ['Gabriel García Márquez', 'Edith Grossman']\n",
      "Memoria de mis putas tristes by ['Gabriel García Márquez']\n",
      "Harry Potter Schoolbooks Box Set: Two Classic Books from the Library of Hogwarts School of Witchcraft and Wizardry by ['J.K. Rowling']\n",
      "Harry Potter and the Half-Blood Prince (Harry Potter  #6) by ['J.K. Rowling']\n",
      "Harry Potter Y La Piedra Filosofal (Harry Potter  #1) by ['J.K. Rowling']\n",
      "Harry Potter and the Prisoner of Azkaban (Harry Potter  #3) by ['J.K. Rowling']\n",
      "Los funerales de la Mamá Grande by ['Gabriel García Márquez']\n",
      "Collected Novellas by ['Gabriel García Márquez', 'Gregory Rabassa', 'J.S. Bernstein']\n",
      "Chronik eines angekündigten Todes by ['Gabriel García Márquez', 'Curt Meyer-Clason']\n",
      "Wolves of the Calla (The Dark Tower  #5) by ['Stephen King', 'Bernie Wrightson']\n",
      "The Drawing of the Three (The Dark Tower  #2) by ['Stephen King']\n",
      "One Hundred Years of Solitude by ['Gabriel García Márquez', 'Gregory Rabassa']\n",
      "One Hundred Years of Solitude by ['Gabriel García Márquez', 'Gregory Rabassa']\n",
      "The Waste Lands (The Dark Tower  #3) by ['Stephen King', 'Ned Dameron']\n",
      "The Stand: Das letzte Gefecht by ['Stephen King', 'Joachim Körber']\n",
      "'Salem's Lot by ['Stephen King', 'Jerry N. Uelsmann']\n",
      "'Salem's Lot by ['Stephen King', 'Ron McLarty']\n",
      "'Salem's Lot by ['Stephen King']\n",
      "Carrie / 'Salem's Lot / The Shining by ['Stephen King']\n",
      "'Salem's Lot by ['Stephen King']\n",
      "'Salem's Lot by ['Stephen King']\n",
      "混血王子的背叛 (哈利波特  #6) by ['J.K. Rowling', 'J.K.羅琳', '皇冠編譯組', '張定綺', '彭倩文', '趙丕慧', '林靜華']\n",
      "火盃的考驗 (哈利波特  #4) by ['J.K. Rowling', 'J.K.羅琳', '彭倩文']\n",
      "A Study Guide to Gabriel Garcia Marquez' One Hundred Years of Solitude by ['Gabriel García Márquez', 'Brenda K. Marshall', 'F. Murray Abraham']\n",
      "One Hundred Years of Solitude by ['Gabriel García Márquez', 'Gregory Rabassa']\n",
      "One Hundred Years Of Solitude by ['Gabriel García Márquez']\n",
      "The Long Walk by ['Richard Bachman', 'Stephen King']\n",
      "Love in the Time of Cholera by ['Gabriel García Márquez', 'Edith Grossman']\n",
      "El amor en los tiempos del cólera by ['Gabriel García Márquez']\n",
      "Lisey's Story by ['Stephen King']\n",
      "The Colorado Kid by ['Stephen King']\n",
      "Stationary Bike by ['Stephen King', 'Ron McLarty']\n",
      "Everything's Eventual: 14 Dark Tales by ['Stephen King']\n",
      "The Mist by ['Stephen King', 'ZBS Foundation']\n",
      "Pet Sematary by ['Stephen King']\n",
      "Insomnia by ['Stephen King', 'Bettina Blanch Tyroller']\n",
      "The Stephen King Collection: Stories from Night Shift by ['Stephen King', 'John  Glover']\n",
      "The Man in the Black Suit: 4 Dark Tales by ['Stephen King', 'Ana Juan', 'John Cullum', 'Becky Ann Baker', 'Íñigo Jáuregui', 'Peter Gerety', 'Arliss Howard']\n",
      "The Shining by ['Stephen King', 'Campbell Scott']\n",
      "Gray Matter and Other Stories from Night Shift by ['Stephen King', 'John  Glover']\n",
      "Cujo by ['Stephen King']\n",
      "Thinner by ['Richard Bachman', 'Stephen King']\n",
      "Black House (The Talisman  #2) by ['Stephen King', 'Peter Straub']\n",
      "Night Shift by ['Stephen King']\n",
      "Misery by ['Stephen King']\n",
      "The Bachman Books by ['Richard Bachman', 'Stephen King']\n",
      "Misery by ['Stephen King', 'María Mir']\n",
      "Carrie by ['Stephen King']\n",
      "Four Past Midnight: Featuring \"The Langoliers\" by ['Stephen King']\n",
      "Christine by ['Stephen King', 'Marie Milpois']\n",
      "Danse Macabre by ['Stephen King']\n",
      "The Secretary of Dreams  Volume One by ['Stephen King', 'Glenn Chadbourne']\n",
      "The Green Mile by ['Stephen King']\n",
      "Dreamcatcher by ['Stephen King', 'William Olivier Desmond', 'Maria Teresa Marenco']\n",
      "Storm of the Century: An Original Screenplay by ['Stephen King']\n",
      "The Body by ['Stephen King', 'Robin Waterfield']\n",
      "Creepshow by ['Stephen King', 'Bernie Wrightson', 'Michele Wrightson']\n",
      "On Writing: A Memoir by ['Stephen King']\n",
      "The Shining by ['Stephen King']\n",
      "La Torre Oscura VII - Tomo 2 of 2 (La Torre Oscura  #7) by ['Stephen King', 'Verónica Canales']\n",
      "The Dark Half by ['Stephen King']\n",
      "The Girl Who Loved Tom Gordon by ['Stephen King']\n",
      "Riding the Bullet by ['Stephen King', 'Josh Hamilton']\n",
      "The Bachman Books: Four Early Novels by Stephen King by ['Stephen King', 'Richard Bachman']\n",
      "El umbral de la noche by ['Stephen King', 'Gregorio Vlastelica', 'Eduardo Goligorsky']\n",
      "La danza de la muerte by ['Stephen King', 'Eduardo Goligorsky']\n",
      "Carrie (Biblioteca de Stephen King. 102  8) by ['Stephen King', 'Gregorio Vlastelica']\n",
      "Carrie by ['Stephen King']\n",
      "The Shining by ['Stephen King']\n",
      "The Shining by ['Stephen King', 'Campbell Scott']\n",
      "The Shining by ['Stephen King']\n",
      "Dark Visions by ['Douglas E. Winter', 'Dan Simmons', 'Stephen King', 'George R.R. Martin']\n",
      "Skeleton Crew by ['Stephen King']\n",
      "Night Shift by ['Stephen King']\n",
      "The Talisman by ['Stephen King', 'Peter Straub']\n",
      "El retrato de Rose Madder by ['Stephen King', 'Bettina Blanch Tyroller']\n",
      "The Dark Half by ['Stephen King']\n",
      "La Milla Verde by ['Stephen King', 'María Eugenia Ciocchini Suárez']\n",
      "Storm of the Century by ['Stephen King']\n",
      "One Hundred Years of Solitude by ['Gabriel García Márquez', 'Gregory Rabassa']\n",
      "Harry Potter y el misterio del príncipe (Harry Potter  #6) by ['J.K. Rowling', 'Gemma Rovira Ortega']\n",
      "Harry Potter y la Orden del Fénix (Harry Potter  #5) by ['J.K. Rowling']\n",
      "Harrius Potter et Philosophi Lapis by ['J.K. Rowling', 'Peter Needham']\n",
      "Harry Potter and the Chamber of Secrets (Harry Potter  #2) by ['J.K. Rowling', 'Mary GrandPré']\n",
      "Harrius Potter et Camera Secretorum by ['J.K. Rowling', 'Peter Needham']\n",
      "The Gunslinger (The Dark Tower #1) by ['Stephen King']\n",
      "The Waste Lands (The Dark Tower #3) by ['Stephen King', 'Ned Dameron']\n",
      "The Eyes of the Dragon by ['Stephen King', 'David Palladini']\n",
      "'Salem's Lot by ['Stephen King', 'Ron McLarty']\n",
      "El misterio de Salem's Lot by ['Stephen King', 'Marta I. Guastavino']\n",
      "'Salem's Lot by ['Stephen King']\n",
      "Territoires (Le talisman des territoires  #2) by ['Stephen King', 'Peter Straub', 'Bernard Cohen']\n",
      "From a Buick 8 by ['Stephen King']\n",
      "Strange Pilgrims by ['Gabriel García Márquez']\n",
      "Doce cuentos peregrinos by ['Gabriel García Márquez']\n",
      "The Dark Tower (The Dark Tower #7) by ['Stephen King']\n",
      "The Gunslinger by ['Stephen King']\n",
      "The Dark Descent by ['David G. Hartwell', 'Clive Barker', 'Ray Bradbury', 'John Collier', 'Shirley Jackson', 'Stephen King', 'Joyce Carol Oates']\n",
      "The Medusa in the Shield by ['David G. Hartwell', 'Robert Aickman', 'Charlotte Perkins Gilman', 'William Faulkner', 'Robert Smythe Hichens', 'Richard Matheson', 'Joanna Russ', 'Dennis Etchison', 'D.H. Lawrence', 'Tanith Lee', \"Flannery O'Connor\", 'Ramsey Campbell', 'Thomas M. Disch', 'Henry James', 'Theodore Sturgeon', 'Clive Barker', 'Edgar Allan Poe', 'Stephen King', 'Michael  Bishop', 'H.P. Lovecraft', 'J. Sheridan Le Fanu']\n",
      "A Fabulous  Formless Darkness by ['David G. Hartwell', 'Fritz Leiber', \"Fitz-James O'Brien\", 'Shirley Jackson', 'Ambrose Bierce', 'Edith Wharton', 'Algernon Blackwood', 'Thomas M. Disch', 'Robert Aickman', 'Philip K. Dick', 'Gene Wolfe', 'Charles Dickens', 'Stephen King', 'Joyce Carol Oates', 'Walter de la Mare', 'Ivan Turgenev', 'Robert W. Chambers', 'Oliver Onions']\n",
      "El coronel no tiene quien le escriba by ['Gabriel García Márquez']\n",
      "Of Love and Other Demons by ['Gabriel García Márquez']\n",
      "Noticia de un secuestro by ['Gabriel García Márquez']\n",
      "Chronicle of a Death Foretold by ['Gabriel García Márquez', 'Gregory Rabassa']\n",
      "Ojos de perro azul by ['Gabriel García Márquez']\n",
      "The General in His Labyrinth by ['Gabriel García Márquez', 'Edith Grossman']\n",
      "La increíble y triste historia de la cándida Eréndira y de su abuela desalmada by ['Gabriel García Márquez']\n",
      "The Autumn of the Patriarch by ['Gabriel García Márquez', 'Gregory Rabassa']\n",
      "Cien años de soledad by ['Gabriel García Márquez']\n",
      "El amor en los tiempos del cólera by ['Gabriel García Márquez']\n",
      "Relato de un náufrago by ['Gabriel García Márquez']\n",
      "Relato de Um Náufrago by ['Gabriel García Márquez', 'Remy Gorga Filho']\n",
      "World's End (The Sandman  #8) by ['Neil Gaiman', 'Mike Allred', 'Gary Amaro', 'Mark Buckingham', 'David Giordano', 'Tony Harris', 'Steve Leialoha', 'Vince Locke', 'Shea Anton Pensa', 'Alec Stevens', 'Bryan Talbot', 'John Watkiss', 'Todd Klein', 'Michael Zulli', 'Stephen King']\n",
      "One Hundred Years of Solitude by ['Gabriel García Márquez', 'Gregory Rabassa']\n",
      "Baseball: a Literary Anthology by ['Nicholas Dawidoff', 'Ernest Lawrence Thayer', 'Jacques Barzun', 'Robert Frost', 'John Updike', 'Leroy Satchel Paige', 'Bill Veeck', 'Murray Kempton', 'Jimmy Breslin', 'Marianne Moore', 'Gay Talese', 'Tallulah Bankhead', 'Albert G. Spalding', 'Nelson Algren', 'William Carlos Williams', 'James Weldon Johnson', 'Thomas Wolfe', 'James Thurber', 'Philip Roth', 'Jim Bouton', 'Dave Frishberg', 'Roger Kahn', 'Roger Angell', 'Damon Runyon', 'George Plimpton', 'A. Bartlett Giamatti', 'Amiri Baraka', 'Annie Dillard', 'Stephen Jay Gould', 'Stephen King', 'Richard Ford', 'Don DeLillo', 'Lawrence S. Ritter', 'Ring Lardner', 'Carl Sandburg', 'Heywood Broun', 'Bernard Malamud', 'Red  Smith']\n",
      "Me Alquilo Para Soñar (Taller de Guión  #62) by ['Gabriel García Márquez']\n",
      "La increíble y triste historia de la cándida Eréndira y de su abuela desalmada by ['Gabriel García Márquez']\n",
      "The Story of a Shipwrecked Sailor by ['Gabriel García Márquez', 'Randolf Hogan']\n",
      "The Stephen King Collection: Stories from Night Shift by ['Stephen King', 'John  Glover']\n",
      "Blood and Smoke by ['Stephen King']\n",
      "LT's Theory of Pets by ['Stephen King']\n",
      "Carretera maldita by ['Richard Bachman', 'Stephen King', 'Joseph M. Apfelbäume']\n",
      "Silver Bullet by ['Stephen King', 'Bernie Wrightson']\n",
      "Legends by ['Robert Silverberg', 'Stephen King', 'Robert Jordan', 'Terry Goodkind', 'Anne McCaffrey', 'Orson Scott Card', 'Tad Williams', 'George R.R. Martin', 'Raymond E. Feist', 'Terry Pratchett', 'Ursula K. Le Guin']\n",
      "Bare Bones: Conversations on Terror with Stephen King by ['Tim Underwood', 'Chuck Miller', 'Stephen King']\n",
      "Four Past Midnight by ['Stephen King']\n",
      "Gerald's Game by ['Stephen King']\n",
      "Faithful: Two Diehard Boston Red Sox Fans Chronicle the Historic 2004 Season by [\"Stewart O'Nan\", 'Stephen King']\n",
      "El talismán by ['Stephen King', 'Peter Straub', 'Pilar Giralt Gorina']\n",
      "El umbral de la noche by ['Stephen King', 'Gregorio Vlastelica', 'Eduardo Goligorsky']\n",
      "Rabia by ['Richard Bachman', 'Stephen King', 'Hernán Sabaté Vargas']\n",
      "Now and on Earth by ['Jim Thompson', 'Stephen King']\n",
      "The Monkey by ['Stephen King', 'David Purdham']\n",
      "Desperation / The Regulators: Box Set by ['Stephen King', 'Richard Bachman']\n",
      "Ojos de fuego by ['Stephen King', 'Eduardo Goligorsky']\n",
      "Different Seasons by ['Stephen King']\n",
      "Nightmare At 20 000 Feet by ['Richard Matheson', 'Stephen King']\n",
      "The Waste Lands (The Dark Tower  #3) by ['Stephen King', 'Ned Dameron']\n",
      "Harry Potter and the Sorcerer's Stone (Harry Potter  #1) by ['J.K. Rowling', 'Mary GrandPré']\n",
      "'Salem's Lot by ['Stephen King']\n",
      "The Shawshank Redemption: The Shooting Script by ['Frank Darabont', 'Stephen King']\n",
      "Different Seasons by ['Stephen King']\n",
      "Love in the Time of Cholera by ['Gabriel García Márquez', 'Edith Grossman']\n",
      "Fantastic Beasts and Where to Find Them (Hogwarts Library) by ['Newt Scamander', 'J.K. Rowling']\n",
      "Harry Potter und die Kammer des Schreckens (Harry Potter  #2) by ['J.K. Rowling']\n",
      "Harry Potter und der Gefangene von Askaban (Harry Potter  #3) by ['J.K. Rowling', 'Rufus Beck']\n",
      "Harry Potter ve Sırlar Odası (Harry Potter  #2) by ['J.K. Rowling', 'Sevin Okyay']\n",
      "Harry Potter und der Gefangene von Askaban (Harry Potter  #3) by ['J.K. Rowling']\n",
      "Harry Potter and the Philosopher's Stone (Harry Potter  #1) by ['J.K. Rowling']\n",
      "Harry Potter and the Goblet of Fire (Harry Potter  #4) by ['J.K. Rowling']\n"
     ]
    }
   ],
   "source": [
    "authors = ['J.K. Rowling', 'Stephen King', 'Gabriel García Márquez']\n",
    "results = collection.find({'authors': {'$in': authors}})\n",
    "\n",
    "# Print the results\n",
    "for result in results:\n",
    "    print(result['title'], 'by', result['authors'])"
   ]
  },
  {
   "cell_type": "code",
   "execution_count": 5,
   "id": "fd792698",
   "metadata": {},
   "outputs": [
    {
     "name": "stdout",
     "output_type": "stream",
     "text": [
      "25 documents updated.\n"
     ]
    }
   ],
   "source": [
    "# update all the documents that include JK Rowling\n",
    "sources1=[\"8893817055\", \"4863895666\", \"1526618249\", \"8862561512\", \"1526618230\", \"6073193009\", \n",
    "                         \"0747574286\", \"8327158775\", \"841810791X\", \"2246810663\", \"3548285287\", \"7020150705\", \n",
    "                         \"9123513683\", \"1526618354\", \"6041160008\", \"1526622807\", \"5353044592\", \n",
    "                         \"060641519X\", \"8327150731\", \"9750843878\", \"9124083836\", \"286866086X\", \n",
    "                         \"2075094551\", \"3551559201\", \"9124087181\", \"1804220272\", \"0606323473\", \n",
    "                         \"8983927623\", \"8418174404\", \"0747598460\", \"8498389119\", \"8498388260\", \"8532531776\", \n",
    "                         \"886715818X\", \"849838267X\", \"9124087173\", \"0606415181\",  \n",
    "                         \"a4915512495\", \"0807281751\", \"1551926431\", \"6555320222\", \"9124083895\", \"912408719X\", \n",
    "                         \"9124078867\", \"8498384451\", \"2840116464\", \"0545850568\", \"1551927004\"]\n",
    "\n",
    "collection.update_many({'authors': 'J.K. Rowling'}, {'$set': {'Key': \"OL23919A\"}})\n",
    "collection.update_many({'authors': 'J.K. Rowling'}, {'$set': {'source_records':sources1}})\n",
    "x=collection.update_many({'authors': 'J.K. Rowling'}, {'$set': {'bio':\"Joanne \\\"Jo\\\" Murray, OBE (n\\u00e9e Rowling), better known under the pen name J. K. Rowling, is a British author best known as the creator of the Harry Potter fantasy series, the idea for which was conceived whilst on a train trip from Manchester to London in 1990. The Potter books have gained worldwide attention, won multiple awards, sold more than 400 million copies, and been the basis for a popular series of films.\"}})\n",
    "\n",
    "print(x.modified_count, \"documents updated.\")"
   ]
  },
  {
   "cell_type": "code",
   "execution_count": 6,
   "id": "3107d227",
   "metadata": {},
   "outputs": [
    {
     "name": "stdout",
     "output_type": "stream",
     "text": [
      "99 documents updated.\n"
     ]
    }
   ],
   "source": [
    "# update all the documents that include Stephen King\n",
    "\n",
    "sources2=[\"5550707004\", \"1892950383\", \"0340794208\", \"0743457366\", \n",
    "         \"9752124275\", \"0340952792\", \"3548840124\", \"5171066086\", \n",
    "         \"2253151467\", \"152939158X\", \"0340685379\", \n",
    "         \"6073148623\", \"1623300746\", \"034095227X\", \"8378857638\", \"1623300193\", \n",
    "         \"1473676436\", \"3453410831\", \"0340952210\", \"0340952245\", \"0340922842\", \n",
    "         \"0340853077\", \"6073162723\", \"9124143421\", \"1852866098\", \"8573028025\", \n",
    "         \"2277223263\", \"3453875575\"]\n",
    "collection.update_many({'authors': 'Stephen King'}, {'$set': {'Key': \"OL2162284A\"}})\n",
    "collection.update_many({'authors': 'Stephen King'}, {'$set': {'source_records':sources2}})\n",
    "x = collection.update_many({'authors': 'Stephen King'}, {'$set': {'bio':\"Stephen Edwin King (born September 21, 1947) is an American author of horror, supernatural fiction, suspense, crime, science-fiction, and fantasy novels. His books have sold more than 350 million copies, and many have been adapted into films, television series, miniseries, and comic books. King has published 63 novels, including seven under the pen name Richard Bachman, and five non-fiction books. He has also written approximately 200 short stories, most of which have been published in book collections.\\r\\n\\r\\nKing has received Bram Stoker Awards, World Fantasy Awards, and British Fantasy Society Awards. In 2003, the National Book Foundation awarded him the Medal for Distinguished Contribution to American Letters. He has also received awards for his contribution to literature for his entire bibliography, such as the 2004 World Fantasy Award for Life Achievement and the 2007 Grand Master Award from the Mystery Writers of America. In 2015, he was awarded with a National Medal of Arts from the U.S. National Endowment for the Arts for his contributions to literature. He has been described as the \\\"King of Horror\\\", a play on his surname and a reference to his high standing in pop culture.\"}})\n",
    "\n",
    "\n",
    "print(x.modified_count, \"documents updated.\")"
   ]
  },
  {
   "cell_type": "code",
   "execution_count": 7,
   "id": "b348c18c",
   "metadata": {},
   "outputs": [
    {
     "name": "stdout",
     "output_type": "stream",
     "text": [
      "37 documents updated.\n"
     ]
    }
   ],
   "source": [
    "# update all the documents that include Gabriel García Márquez\n",
    "sources3=[\"9588886171\", \"5170801041\", \"8439719728\", \"8328716429\",\"8377580209\", \n",
    "         \"6066098403\", \"1665039833\", \"034500745X\", \"9755100229\"]\n",
    "\n",
    "\n",
    "collection.update_many({'authors': 'Gabriel García Márquez'}, {'$set': {'Key': \"OL4586796A\"}})\n",
    "collection.update_many({'authors': 'Gabriel García Márquez'}, {'$set': {'source_records':sources3}})\n",
    "x = collection.update_many({'authors': 'Gabriel García Márquez'}, {'$set': {'bio':\"Gabriel Garc\\u00eda M\\u00e1rquez is a Colombian novelist, short-story writer, screenwriter and journalist. Garc\\u00eda M\\u00e1rquez, affectionately known as \\\"Gabo\\\" throughout Latin America, is considered one of the most significant authors of the 20th century. In 1982, he was awarded the Nobel Prize in Literature. He pursued a self-directed education that resulted in his leaving law school for a career in journalism. From early on, he showed no inhibitions in his criticism of Colombian and foreign politics. In 1958, he married Mercedes Barcha; they have two sons, Rodrigo and Gonzalo.\\r\\n\\r\\nHe started as a journalist, and has written many acclaimed non-fiction works and short stories, but is best-known for his novels, such as One Hundred Years of Solitude (1967) and Love in the Time of Cholera (1985). His works have achieved significant critical acclaim and widespread commercial success, most notably for popularizing a literary style labeled as magical realism, which uses magical elements and events in otherwise ordinary and realistic situations. Some of his works are set in a fictional village called Macondo, and most of them express the theme of solitude. [1]\\r\\n\\r\\n [1]: http://en.wikipedia.org/wiki/Gabriel_Garc%C3%ADa_M%C3%A1rquez\\r\\n\\r\\nSource and more information: http://en.wikipedia.org/wiki/Gabriel_Garc\\u00eda_M\\u00e1rquez\"}})\n",
    "\n",
    "\n",
    "print(x.modified_count, \"documents updated.\")"
   ]
  },
  {
   "cell_type": "code",
   "execution_count": 8,
   "id": "d0a0ef77",
   "metadata": {},
   "outputs": [],
   "source": [
    "#!pip install flask\n",
    "from flask import Flask, render_template"
   ]
  },
  {
   "cell_type": "code",
   "execution_count": 9,
   "id": "605dac64",
   "metadata": {},
   "outputs": [],
   "source": [
    "author_list = [\n",
    "    ['J.K. Rowling','http://localhost:5012/v1'],\n",
    "    ['Stephen King','http://localhost:5012/v2'],\n",
    "    ['Gabriel García Márquez','http://localhost:5012/v3']\n",
    "]\n",
    "app = Flask(\"flask_demo\")\n",
    "\n",
    "@app.route('/')\n",
    "def index():\n",
    "    return render_template('index0.html', result=author_list)\n"
   ]
  },
  {
   "cell_type": "code",
   "execution_count": 10,
   "id": "1c8de3da",
   "metadata": {
    "scrolled": true
   },
   "outputs": [],
   "source": [
    "jkbio=collection.find_one({\"authors\": \"J.K. Rowling\"})[\"bio\"]\n",
    "sources1=collection.find_one({\"authors\": \"J.K. Rowling\"})[\"source_records\"]\n",
    "@app.route('/v1')\n",
    "def index1():\n",
    "    return render_template('index1.html', result=sources1, bio=jkbio)"
   ]
  },
  {
   "cell_type": "code",
   "execution_count": 11,
   "id": "689d8552",
   "metadata": {},
   "outputs": [],
   "source": [
    "skbio=collection.find_one({\"authors\": \"Stephen King\"})[\"bio\"]\n",
    "sources2=collection.find_one({\"authors\": \"Stephen King\"})[\"source_records\"]\n",
    "@app.route('/v2')\n",
    "def index2():\n",
    "    return render_template('index2.html', result=sources2, bio=skbio)"
   ]
  },
  {
   "cell_type": "code",
   "execution_count": 12,
   "id": "29e3523d",
   "metadata": {},
   "outputs": [],
   "source": [
    "ggbio=collection.find_one({\"authors\": \"Gabriel García Márquez\"})[\"bio\"]\n",
    "sources3=collection.find_one({\"authors\": \"Gabriel García Márquez\"})[\"source_records\"]\n",
    "@app.route('/v3')\n",
    "def index3():\n",
    "    return render_template('index3.html', result=sources3, bio=ggbio)"
   ]
  },
  {
   "cell_type": "code",
   "execution_count": 13,
   "id": "95b61587",
   "metadata": {},
   "outputs": [
    {
     "name": "stdout",
     "output_type": "stream",
     "text": [
      " * Serving Flask app 'flask_demo'\n",
      " * Debug mode: off\n"
     ]
    },
    {
     "name": "stderr",
     "output_type": "stream",
     "text": [
      "WARNING: This is a development server. Do not use it in a production deployment. Use a production WSGI server instead.\n",
      " * Running on http://localhost:5012\n",
      "Press CTRL+C to quit\n",
      "127.0.0.1 - - [12/Mar/2023 20:28:20] \"GET / HTTP/1.1\" 200 -\n",
      "127.0.0.1 - - [12/Mar/2023 20:28:20] \"GET /favicon.ico HTTP/1.1\" 404 -\n",
      "127.0.0.1 - - [12/Mar/2023 20:28:22] \"GET /v1 HTTP/1.1\" 200 -\n",
      "127.0.0.1 - - [12/Mar/2023 20:28:30] \"GET /v2 HTTP/1.1\" 200 -\n",
      "127.0.0.1 - - [12/Mar/2023 20:28:50] \"GET /v3 HTTP/1.1\" 200 -\n"
     ]
    }
   ],
   "source": [
    "app.run(host='localhost', port=5012)"
   ]
  },
  {
   "cell_type": "code",
   "execution_count": null,
   "id": "270967f4",
   "metadata": {},
   "outputs": [],
   "source": []
  }
 ],
 "metadata": {
  "kernelspec": {
   "display_name": "Python 3 (ipykernel)",
   "language": "python",
   "name": "python3"
  },
  "language_info": {
   "codemirror_mode": {
    "name": "ipython",
    "version": 3
   },
   "file_extension": ".py",
   "mimetype": "text/x-python",
   "name": "python",
   "nbconvert_exporter": "python",
   "pygments_lexer": "ipython3",
   "version": "3.10.0"
  }
 },
 "nbformat": 4,
 "nbformat_minor": 5
}
